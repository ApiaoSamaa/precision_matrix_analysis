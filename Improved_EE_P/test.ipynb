{
 "cells": [
  {
   "cell_type": "code",
   "execution_count": 19,
   "metadata": {},
   "outputs": [],
   "source": [
    "from thresholdFunc import hardThreshold,softThreshold\n",
    "from scipy.sparse.csgraph import connected_components\n",
    "import scipy.linalg\n",
    "import numpy.linalg\n",
    "import numpy as np\n",
    "import os\n",
    "import json\n",
    "import matplotlib.pyplot as plt"
   ]
  },
  {
   "cell_type": "code",
   "execution_count": 37,
   "metadata": {},
   "outputs": [
    {
     "name": "stdout",
     "output_type": "stream",
     "text": [
      "/Users/jojo/Documents/VscodeProjects/tx/Improved_EE_P\n",
      "(20, 20)\n"
     ]
    },
    {
     "data": {
      "image/png": "[encoded data removed]",
      "text/plain": [
       "<Figure size 432x288 with 3 Axes>"
      ]
     },
     "metadata": {
      "needs_background": "light"
     },
     "output_type": "display_data"
    }
   ],
   "source": [
    "testing_label = []\n",
    "print(os.getcwd())\n",
    "with open(\"./dimension20share_cov.json\", \"r\") as file:\n",
    "    jsonfile = json.load(file)\n",
    "share_cov = np.array(jsonfile).reshape((20, 20))\n",
    "print(share_cov.shape)\n",
    "\n",
    "plt.subplot(1, 2, 1)\n",
    "plt.imshow(share_cov)\n",
    "plt.colorbar()\n",
    "share_cov = np.where(abs(share_cov)>0.8, share_cov, 0)\n",
    "plt.subplot(1, 2, 2)\n",
    "plt.imshow(share_cov)\n",
    "plt.show()"
   ]
  },
  {
   "cell_type": "code",
   "execution_count": 38,
   "metadata": {},
   "outputs": [
    {
     "name": "stdout",
     "output_type": "stream",
     "text": [
      "4 [0 0 0 0 0 1 1 1 1 1 2 2 2 2 2 3 3 3 3 3]\n"
     ]
    }
   ],
   "source": [
    "\n",
    "n_components, labels = connected_components(csgraph=share_cov, directed=False, return_labels=True)\n",
    "print(n_components, labels)"
   ]
  }
 ],
 "metadata": {
  "interpreter": {
   "hash": "f0a6b75955236af4d4c00b8b00d846d26770cae868a8cba9a293424a4f5e4282"
  },
  "kernelspec": {
   "display_name": "Python 3.8.5 ('base')",
   "language": "python",
   "name": "python3"
  },
  "language_info": {
   "codemirror_mode": {
    "name": "ipython",
    "version": 3
   },
   "file_extension": ".py",
   "mimetype": "text/x-python",
   "name": "python",
   "nbconvert_exporter": "python",
   "pygments_lexer": "ipython3",
   "version": "3.8.5"
  },
  "orig_nbformat": 4
 },
 "nbformat": 4,
 "nbformat_minor": 2
}
